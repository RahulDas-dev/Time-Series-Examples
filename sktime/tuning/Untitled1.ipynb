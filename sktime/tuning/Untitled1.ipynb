{
 "cells": [
  {
   "cell_type": "code",
   "execution_count": 1,
   "id": "29c148d9",
   "metadata": {},
   "outputs": [],
   "source": [
    "from sktime.datasets import load_macroeconomic\n",
    "from sktime.forecasting.compose import make_reduction\n",
    "from sktime.forecasting.model_selection import temporal_train_test_split\n",
    "from sklearn.linear_model import ElasticNet\n",
    "from sktime.utils.plotting import plot_series"
   ]
  },
  {
   "cell_type": "code",
   "execution_count": 2,
   "id": "b8945727",
   "metadata": {},
   "outputs": [
    {
     "data": {
      "text/html": [
       "<div>\n",
       "<style scoped>\n",
       "    .dataframe tbody tr th:only-of-type {\n",
       "        vertical-align: middle;\n",
       "    }\n",
       "\n",
       "    .dataframe tbody tr th {\n",
       "        vertical-align: top;\n",
       "    }\n",
       "\n",
       "    .dataframe thead th {\n",
       "        text-align: right;\n",
       "    }\n",
       "</style>\n",
       "<table border=\"1\" class=\"dataframe\">\n",
       "  <thead>\n",
       "    <tr style=\"text-align: right;\">\n",
       "      <th></th>\n",
       "      <th>realgdp</th>\n",
       "      <th>realcons</th>\n",
       "      <th>realinv</th>\n",
       "      <th>realgovt</th>\n",
       "      <th>realdpi</th>\n",
       "      <th>cpi</th>\n",
       "      <th>m1</th>\n",
       "      <th>tbilrate</th>\n",
       "      <th>unemp</th>\n",
       "      <th>pop</th>\n",
       "      <th>infl</th>\n",
       "      <th>realint</th>\n",
       "    </tr>\n",
       "    <tr>\n",
       "      <th>Period</th>\n",
       "      <th></th>\n",
       "      <th></th>\n",
       "      <th></th>\n",
       "      <th></th>\n",
       "      <th></th>\n",
       "      <th></th>\n",
       "      <th></th>\n",
       "      <th></th>\n",
       "      <th></th>\n",
       "      <th></th>\n",
       "      <th></th>\n",
       "      <th></th>\n",
       "    </tr>\n",
       "  </thead>\n",
       "  <tbody>\n",
       "    <tr>\n",
       "      <th>1959Q1</th>\n",
       "      <td>2710.349</td>\n",
       "      <td>1707.4</td>\n",
       "      <td>286.898</td>\n",
       "      <td>470.045</td>\n",
       "      <td>1886.9</td>\n",
       "      <td>28.98</td>\n",
       "      <td>139.7</td>\n",
       "      <td>2.82</td>\n",
       "      <td>5.8</td>\n",
       "      <td>177.146</td>\n",
       "      <td>0.00</td>\n",
       "      <td>0.00</td>\n",
       "    </tr>\n",
       "    <tr>\n",
       "      <th>1959Q2</th>\n",
       "      <td>2778.801</td>\n",
       "      <td>1733.7</td>\n",
       "      <td>310.859</td>\n",
       "      <td>481.301</td>\n",
       "      <td>1919.7</td>\n",
       "      <td>29.15</td>\n",
       "      <td>141.7</td>\n",
       "      <td>3.08</td>\n",
       "      <td>5.1</td>\n",
       "      <td>177.830</td>\n",
       "      <td>2.34</td>\n",
       "      <td>0.74</td>\n",
       "    </tr>\n",
       "    <tr>\n",
       "      <th>1959Q3</th>\n",
       "      <td>2775.488</td>\n",
       "      <td>1751.8</td>\n",
       "      <td>289.226</td>\n",
       "      <td>491.260</td>\n",
       "      <td>1916.4</td>\n",
       "      <td>29.35</td>\n",
       "      <td>140.5</td>\n",
       "      <td>3.82</td>\n",
       "      <td>5.3</td>\n",
       "      <td>178.657</td>\n",
       "      <td>2.74</td>\n",
       "      <td>1.09</td>\n",
       "    </tr>\n",
       "    <tr>\n",
       "      <th>1959Q4</th>\n",
       "      <td>2785.204</td>\n",
       "      <td>1753.7</td>\n",
       "      <td>299.356</td>\n",
       "      <td>484.052</td>\n",
       "      <td>1931.3</td>\n",
       "      <td>29.37</td>\n",
       "      <td>140.0</td>\n",
       "      <td>4.33</td>\n",
       "      <td>5.6</td>\n",
       "      <td>179.386</td>\n",
       "      <td>0.27</td>\n",
       "      <td>4.06</td>\n",
       "    </tr>\n",
       "    <tr>\n",
       "      <th>1960Q1</th>\n",
       "      <td>2847.699</td>\n",
       "      <td>1770.5</td>\n",
       "      <td>331.722</td>\n",
       "      <td>462.199</td>\n",
       "      <td>1955.5</td>\n",
       "      <td>29.54</td>\n",
       "      <td>139.6</td>\n",
       "      <td>3.50</td>\n",
       "      <td>5.2</td>\n",
       "      <td>180.007</td>\n",
       "      <td>2.31</td>\n",
       "      <td>1.19</td>\n",
       "    </tr>\n",
       "  </tbody>\n",
       "</table>\n",
       "</div>"
      ],
      "text/plain": [
       "         realgdp  realcons  realinv  realgovt  realdpi    cpi     m1  \\\n",
       "Period                                                                 \n",
       "1959Q1  2710.349    1707.4  286.898   470.045   1886.9  28.98  139.7   \n",
       "1959Q2  2778.801    1733.7  310.859   481.301   1919.7  29.15  141.7   \n",
       "1959Q3  2775.488    1751.8  289.226   491.260   1916.4  29.35  140.5   \n",
       "1959Q4  2785.204    1753.7  299.356   484.052   1931.3  29.37  140.0   \n",
       "1960Q1  2847.699    1770.5  331.722   462.199   1955.5  29.54  139.6   \n",
       "\n",
       "        tbilrate  unemp      pop  infl  realint  \n",
       "Period                                           \n",
       "1959Q1      2.82    5.8  177.146  0.00     0.00  \n",
       "1959Q2      3.08    5.1  177.830  2.34     0.74  \n",
       "1959Q3      3.82    5.3  178.657  2.74     1.09  \n",
       "1959Q4      4.33    5.6  179.386  0.27     4.06  \n",
       "1960Q1      3.50    5.2  180.007  2.31     1.19  "
      ]
     },
     "execution_count": 2,
     "metadata": {},
     "output_type": "execute_result"
    }
   ],
   "source": [
    "data = load_macroeconomic()\n",
    "data.head()"
   ]
  },
  {
   "cell_type": "code",
   "execution_count": 3,
   "id": "99c545f9",
   "metadata": {},
   "outputs": [],
   "source": [
    "train_xy, test_xy = temporal_train_test_split(data, test_size=5)\n",
    "train_y = train_xy.pop('unemp')\n",
    "test_y = test_xy.pop('unemp')\n",
    "\n",
    "forecaster1 = make_reduction(estimator=ElasticNet(random_state=42, max_iter=100000),\n",
    "                            scitype=\"tabular-regressor\",\n",
    "                            window_length=5,\n",
    "                            strategy=\"recursive\",\n",
    "                            pooling=\"global\")"
   ]
  },
  {
   "cell_type": "code",
   "execution_count": 4,
   "id": "80ed6822",
   "metadata": {},
   "outputs": [
    {
     "name": "stdout",
     "output_type": "stream",
     "text": [
      "forecaster1 cutoff PeriodIndex(['2008Q2'], dtype='period[Q-DEC]', name='Period')\n",
      "forecaster1 cutoff PeriodIndex(['2008Q2'], dtype='period[Q-DEC]', name='Period')\n",
      "2008Q3     4.793714\n",
      "2008Q4     6.430364\n",
      "2009Q1     9.116874\n",
      "2009Q2    10.521908\n",
      "2009Q3     9.619637\n",
      "Freq: Q-DEC, Name: unemp, dtype: float64\n"
     ]
    },
    {
     "data": {
      "text/plain": [
       "(<Figure size 1600x400 with 1 Axes>, <Axes: ylabel='unemp'>)"
      ]
     },
     "execution_count": 4,
     "metadata": {},
     "output_type": "execute_result"
    },
    {
     "data": {
      "image/png": "[encoded data removed]",
      "text/plain": [
       "<Figure size 1600x400 with 1 Axes>"
      ]
     },
     "metadata": {},
     "output_type": "display_data"
    }
   ],
   "source": [
    "forecaster1.fit(train_y, X=train_xy, fh=[1,2,3,4,5])\n",
    "print(f'forecaster1 cutoff {forecaster1.cutoff}')\n",
    "y_predict1 = forecaster1.predict(fh=[1,2,3,4,5], X=test_xy)\n",
    "print(f'forecaster1 cutoff {forecaster1.cutoff}')\n",
    "print(y_predict1)\n",
    "plot_series(train_y.tail(12), test_y,y_predict1, labels=[\"Train\", \"Test\", \"predict\"])"
   ]
  },
  {
   "cell_type": "code",
   "execution_count": 5,
   "id": "0d6366e7",
   "metadata": {},
   "outputs": [
    {
     "name": "stdout",
     "output_type": "stream",
     "text": [
      "forecaster2 cutoff PeriodIndex(['2008Q2'], dtype='period[Q-DEC]', name='Period')\n",
      "2008Q3    11.373905\n",
      "2008Q4    11.373905\n",
      "2009Q1    11.373905\n",
      "2009Q2    11.373905\n",
      "2009Q3    11.373905\n",
      "Freq: Q-DEC, Name: unemp, dtype: float64\n"
     ]
    },
    {
     "data": {
      "text/plain": [
       "(<Figure size 1600x400 with 1 Axes>, <Axes: ylabel='unemp'>)"
      ]
     },
     "execution_count": 5,
     "metadata": {},
     "output_type": "execute_result"
    },
    {
     "data": {
      "image/png": "[encoded data removed]",
      "text/plain": [
       "<Figure size 1600x400 with 1 Axes>"
      ]
     },
     "metadata": {},
     "output_type": "display_data"
    }
   ],
   "source": [
    "forecaster2 = make_reduction(estimator=ElasticNet(random_state=42, max_iter=100000),\n",
    "                            scitype=\"tabular-regressor\",\n",
    "                            window_length=5,\n",
    "                            strategy=\"recursive\",\n",
    "                            pooling=\"global\")\n",
    "\n",
    "\n",
    "y_predict2 = forecaster2.fit_predict(train_y, X=train_xy, fh=[1,2,3,4,5])\n",
    "print(f'forecaster2 cutoff {forecaster2.cutoff}')\n",
    "print(y_predict2)\n",
    "plot_series(train_y.tail(12), test_y,y_predict2, labels=[\"Train\", \"Test\", \"predict\"])"
   ]
  },
  {
   "cell_type": "code",
   "execution_count": 9,
   "id": "92017ecf",
   "metadata": {},
   "outputs": [
    {
     "data": {
      "text/plain": [
       "2008Q3     4.793714\n",
       "2008Q4     6.430364\n",
       "2009Q1     9.116874\n",
       "2009Q2    10.521908\n",
       "2009Q3     9.619637\n",
       "Freq: Q-DEC, Name: test1, dtype: float64"
      ]
     },
     "execution_count": 9,
     "metadata": {},
     "output_type": "execute_result"
    }
   ],
   "source": [
    "y_predict2.rename('test12', inplace=True)\n",
    "y_predict1.rename('test1', inplace=True)\n",
    "\n",
    "y_predict1"
   ]
  },
  {
   "cell_type": "code",
   "execution_count": 11,
   "id": "4a573340",
   "metadata": {},
   "outputs": [],
   "source": [
    "import pandas as pd\n",
    "return_df = pd.concat([y_predict2, y_predict1], axis=1)"
   ]
  },
  {
   "cell_type": "code",
   "execution_count": 12,
   "id": "c45594cd",
   "metadata": {},
   "outputs": [
    {
     "data": {
      "text/html": [
       "<div>\n",
       "<style scoped>\n",
       "    .dataframe tbody tr th:only-of-type {\n",
       "        vertical-align: middle;\n",
       "    }\n",
       "\n",
       "    .dataframe tbody tr th {\n",
       "        vertical-align: top;\n",
       "    }\n",
       "\n",
       "    .dataframe thead th {\n",
       "        text-align: right;\n",
       "    }\n",
       "</style>\n",
       "<table border=\"1\" class=\"dataframe\">\n",
       "  <thead>\n",
       "    <tr style=\"text-align: right;\">\n",
       "      <th></th>\n",
       "      <th>test12</th>\n",
       "      <th>test1</th>\n",
       "    </tr>\n",
       "  </thead>\n",
       "  <tbody>\n",
       "    <tr>\n",
       "      <th>2008Q3</th>\n",
       "      <td>11.373905</td>\n",
       "      <td>4.793714</td>\n",
       "    </tr>\n",
       "    <tr>\n",
       "      <th>2008Q4</th>\n",
       "      <td>11.373905</td>\n",
       "      <td>6.430364</td>\n",
       "    </tr>\n",
       "    <tr>\n",
       "      <th>2009Q1</th>\n",
       "      <td>11.373905</td>\n",
       "      <td>9.116874</td>\n",
       "    </tr>\n",
       "    <tr>\n",
       "      <th>2009Q2</th>\n",
       "      <td>11.373905</td>\n",
       "      <td>10.521908</td>\n",
       "    </tr>\n",
       "    <tr>\n",
       "      <th>2009Q3</th>\n",
       "      <td>11.373905</td>\n",
       "      <td>9.619637</td>\n",
       "    </tr>\n",
       "  </tbody>\n",
       "</table>\n",
       "</div>"
      ],
      "text/plain": [
       "           test12      test1\n",
       "2008Q3  11.373905   4.793714\n",
       "2008Q4  11.373905   6.430364\n",
       "2009Q1  11.373905   9.116874\n",
       "2009Q2  11.373905  10.521908\n",
       "2009Q3  11.373905   9.619637"
      ]
     },
     "execution_count": 12,
     "metadata": {},
     "output_type": "execute_result"
    }
   ],
   "source": [
    "return_df"
   ]
  },
  {
   "cell_type": "code",
   "execution_count": 16,
   "id": "cf6c9c78",
   "metadata": {},
   "outputs": [
    {
     "data": {
      "text/plain": [
       "[4.793714024691742,\n",
       " 6.430363788136059,\n",
       " 9.116874266906695,\n",
       " 10.521908362259499,\n",
       " 9.619636704361167]"
      ]
     },
     "execution_count": 16,
     "metadata": {},
     "output_type": "execute_result"
    }
   ],
   "source": [
    "y_predict1.to_list()"
   ]
  },
  {
   "cell_type": "code",
   "execution_count": 15,
   "id": "47bd7761",
   "metadata": {},
   "outputs": [
    {
     "data": {
      "text/plain": [
       "PeriodIndex(['2008Q3', '2008Q4', '2009Q1', '2009Q2', '2009Q3'], dtype='period[Q-DEC]')"
      ]
     },
     "execution_count": 15,
     "metadata": {},
     "output_type": "execute_result"
    }
   ],
   "source": [
    "y_predict1.index"
   ]
  },
  {
   "cell_type": "code",
   "execution_count": 18,
   "id": "5a45d7c0",
   "metadata": {},
   "outputs": [
    {
     "data": {
      "text/plain": [
       "pandas.core.series.Series"
      ]
     },
     "execution_count": 18,
     "metadata": {},
     "output_type": "execute_result"
    }
   ],
   "source": [
    "type(y_predict2)"
   ]
  },
  {
   "cell_type": "code",
   "execution_count": null,
   "id": "a92cfa09",
   "metadata": {},
   "outputs": [],
   "source": []
  }
 ],
 "metadata": {
  "kernelspec": {
   "display_name": "times",
   "language": "python",
   "name": "times"
  },
  "language_info": {
   "codemirror_mode": {
    "name": "ipython",
    "version": 3
   },
   "file_extension": ".py",
   "mimetype": "text/x-python",
   "name": "python",
   "nbconvert_exporter": "python",
   "pygments_lexer": "ipython3",
   "version": "3.9.7"
  }
 },
 "nbformat": 4,
 "nbformat_minor": 5
}
