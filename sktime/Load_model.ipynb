{
 "cells": [
  {
   "cell_type": "markdown",
   "id": "d4c7341b",
   "metadata": {},
   "source": [
    "### Library Import"
   ]
  },
  {
   "cell_type": "code",
   "execution_count": 2,
   "id": "44ac4e13",
   "metadata": {},
   "outputs": [
    {
     "ename": "AttributeError",
     "evalue": "Can't get attribute 'ColumnsGuard' on <module '__main__'>",
     "output_type": "error",
     "traceback": [
      "\u001b[1;31m---------------------------------------------------------------------------\u001b[0m",
      "\u001b[1;31mAttributeError\u001b[0m                            Traceback (most recent call last)",
      "Cell \u001b[1;32mIn[2], line 3\u001b[0m\n\u001b[0;32m      1\u001b[0m \u001b[38;5;28;01mimport\u001b[39;00m \u001b[38;5;21;01mjoblib\u001b[39;00m\n\u001b[1;32m----> 3\u001b[0m trained_model \u001b[38;5;241m=\u001b[39m \u001b[43mjoblib\u001b[49m\u001b[38;5;241;43m.\u001b[39;49m\u001b[43mload\u001b[49m\u001b[43m(\u001b[49m\u001b[38;5;124;43m\"\u001b[39;49m\u001b[38;5;124;43m../results/HuberRegressor.pkl\u001b[39;49m\u001b[38;5;124;43m\"\u001b[39;49m\u001b[43m)\u001b[49m\n",
      "File \u001b[1;32m~\\OneDrive\\Desktop\\codespace\\Python\\timeseries\\Time-Series-Examples\\.venv\\lib\\site-packages\\joblib\\numpy_pickle.py:658\u001b[0m, in \u001b[0;36mload\u001b[1;34m(filename, mmap_mode)\u001b[0m\n\u001b[0;32m    652\u001b[0m             \u001b[38;5;28;01mif\u001b[39;00m \u001b[38;5;28misinstance\u001b[39m(fobj, \u001b[38;5;28mstr\u001b[39m):\n\u001b[0;32m    653\u001b[0m                 \u001b[38;5;66;03m# if the returned file object is a string, this means we\u001b[39;00m\n\u001b[0;32m    654\u001b[0m                 \u001b[38;5;66;03m# try to load a pickle file generated with an version of\u001b[39;00m\n\u001b[0;32m    655\u001b[0m                 \u001b[38;5;66;03m# Joblib so we load it with joblib compatibility function.\u001b[39;00m\n\u001b[0;32m    656\u001b[0m                 \u001b[38;5;28;01mreturn\u001b[39;00m load_compatibility(fobj)\n\u001b[1;32m--> 658\u001b[0m             obj \u001b[38;5;241m=\u001b[39m \u001b[43m_unpickle\u001b[49m\u001b[43m(\u001b[49m\u001b[43mfobj\u001b[49m\u001b[43m,\u001b[49m\u001b[43m \u001b[49m\u001b[43mfilename\u001b[49m\u001b[43m,\u001b[49m\u001b[43m \u001b[49m\u001b[43mmmap_mode\u001b[49m\u001b[43m)\u001b[49m\n\u001b[0;32m    659\u001b[0m \u001b[38;5;28;01mreturn\u001b[39;00m obj\n",
      "File \u001b[1;32m~\\OneDrive\\Desktop\\codespace\\Python\\timeseries\\Time-Series-Examples\\.venv\\lib\\site-packages\\joblib\\numpy_pickle.py:577\u001b[0m, in \u001b[0;36m_unpickle\u001b[1;34m(fobj, filename, mmap_mode)\u001b[0m\n\u001b[0;32m    575\u001b[0m obj \u001b[38;5;241m=\u001b[39m \u001b[38;5;28;01mNone\u001b[39;00m\n\u001b[0;32m    576\u001b[0m \u001b[38;5;28;01mtry\u001b[39;00m:\n\u001b[1;32m--> 577\u001b[0m     obj \u001b[38;5;241m=\u001b[39m \u001b[43munpickler\u001b[49m\u001b[38;5;241;43m.\u001b[39;49m\u001b[43mload\u001b[49m\u001b[43m(\u001b[49m\u001b[43m)\u001b[49m\n\u001b[0;32m    578\u001b[0m     \u001b[38;5;28;01mif\u001b[39;00m unpickler\u001b[38;5;241m.\u001b[39mcompat_mode:\n\u001b[0;32m    579\u001b[0m         warnings\u001b[38;5;241m.\u001b[39mwarn(\u001b[38;5;124m\"\u001b[39m\u001b[38;5;124mThe file \u001b[39m\u001b[38;5;124m'\u001b[39m\u001b[38;5;132;01m%s\u001b[39;00m\u001b[38;5;124m'\u001b[39m\u001b[38;5;124m has been generated with a \u001b[39m\u001b[38;5;124m\"\u001b[39m\n\u001b[0;32m    580\u001b[0m                       \u001b[38;5;124m\"\u001b[39m\u001b[38;5;124mjoblib version less than 0.10. \u001b[39m\u001b[38;5;124m\"\u001b[39m\n\u001b[0;32m    581\u001b[0m                       \u001b[38;5;124m\"\u001b[39m\u001b[38;5;124mPlease regenerate this pickle file.\u001b[39m\u001b[38;5;124m\"\u001b[39m\n\u001b[0;32m    582\u001b[0m                       \u001b[38;5;241m%\u001b[39m filename,\n\u001b[0;32m    583\u001b[0m                       \u001b[38;5;167;01mDeprecationWarning\u001b[39;00m, stacklevel\u001b[38;5;241m=\u001b[39m\u001b[38;5;241m3\u001b[39m)\n",
      "File \u001b[1;32m~\\AppData\\Local\\Programs\\Python\\Python39\\lib\\pickle.py:1212\u001b[0m, in \u001b[0;36m_Unpickler.load\u001b[1;34m(self)\u001b[0m\n\u001b[0;32m   1210\u001b[0m             \u001b[38;5;28;01mraise\u001b[39;00m \u001b[38;5;167;01mEOFError\u001b[39;00m\n\u001b[0;32m   1211\u001b[0m         \u001b[38;5;28;01massert\u001b[39;00m \u001b[38;5;28misinstance\u001b[39m(key, bytes_types)\n\u001b[1;32m-> 1212\u001b[0m         \u001b[43mdispatch\u001b[49m\u001b[43m[\u001b[49m\u001b[43mkey\u001b[49m\u001b[43m[\u001b[49m\u001b[38;5;241;43m0\u001b[39;49m\u001b[43m]\u001b[49m\u001b[43m]\u001b[49m\u001b[43m(\u001b[49m\u001b[38;5;28;43mself\u001b[39;49m\u001b[43m)\u001b[49m\n\u001b[0;32m   1213\u001b[0m \u001b[38;5;28;01mexcept\u001b[39;00m _Stop \u001b[38;5;28;01mas\u001b[39;00m stopinst:\n\u001b[0;32m   1214\u001b[0m     \u001b[38;5;28;01mreturn\u001b[39;00m stopinst\u001b[38;5;241m.\u001b[39mvalue\n",
      "File \u001b[1;32m~\\AppData\\Local\\Programs\\Python\\Python39\\lib\\pickle.py:1537\u001b[0m, in \u001b[0;36m_Unpickler.load_stack_global\u001b[1;34m(self)\u001b[0m\n\u001b[0;32m   1535\u001b[0m \u001b[38;5;28;01mif\u001b[39;00m \u001b[38;5;28mtype\u001b[39m(name) \u001b[38;5;129;01mis\u001b[39;00m \u001b[38;5;129;01mnot\u001b[39;00m \u001b[38;5;28mstr\u001b[39m \u001b[38;5;129;01mor\u001b[39;00m \u001b[38;5;28mtype\u001b[39m(module) \u001b[38;5;129;01mis\u001b[39;00m \u001b[38;5;129;01mnot\u001b[39;00m \u001b[38;5;28mstr\u001b[39m:\n\u001b[0;32m   1536\u001b[0m     \u001b[38;5;28;01mraise\u001b[39;00m UnpicklingError(\u001b[38;5;124m\"\u001b[39m\u001b[38;5;124mSTACK_GLOBAL requires str\u001b[39m\u001b[38;5;124m\"\u001b[39m)\n\u001b[1;32m-> 1537\u001b[0m \u001b[38;5;28mself\u001b[39m\u001b[38;5;241m.\u001b[39mappend(\u001b[38;5;28;43mself\u001b[39;49m\u001b[38;5;241;43m.\u001b[39;49m\u001b[43mfind_class\u001b[49m\u001b[43m(\u001b[49m\u001b[43mmodule\u001b[49m\u001b[43m,\u001b[49m\u001b[43m \u001b[49m\u001b[43mname\u001b[49m\u001b[43m)\u001b[49m)\n",
      "File \u001b[1;32m~\\AppData\\Local\\Programs\\Python\\Python39\\lib\\pickle.py:1581\u001b[0m, in \u001b[0;36m_Unpickler.find_class\u001b[1;34m(self, module, name)\u001b[0m\n\u001b[0;32m   1579\u001b[0m \u001b[38;5;28m__import__\u001b[39m(module, level\u001b[38;5;241m=\u001b[39m\u001b[38;5;241m0\u001b[39m)\n\u001b[0;32m   1580\u001b[0m \u001b[38;5;28;01mif\u001b[39;00m \u001b[38;5;28mself\u001b[39m\u001b[38;5;241m.\u001b[39mproto \u001b[38;5;241m>\u001b[39m\u001b[38;5;241m=\u001b[39m \u001b[38;5;241m4\u001b[39m:\n\u001b[1;32m-> 1581\u001b[0m     \u001b[38;5;28;01mreturn\u001b[39;00m \u001b[43m_getattribute\u001b[49m\u001b[43m(\u001b[49m\u001b[43msys\u001b[49m\u001b[38;5;241;43m.\u001b[39;49m\u001b[43mmodules\u001b[49m\u001b[43m[\u001b[49m\u001b[43mmodule\u001b[49m\u001b[43m]\u001b[49m\u001b[43m,\u001b[49m\u001b[43m \u001b[49m\u001b[43mname\u001b[49m\u001b[43m)\u001b[49m[\u001b[38;5;241m0\u001b[39m]\n\u001b[0;32m   1582\u001b[0m \u001b[38;5;28;01melse\u001b[39;00m:\n\u001b[0;32m   1583\u001b[0m     \u001b[38;5;28;01mreturn\u001b[39;00m \u001b[38;5;28mgetattr\u001b[39m(sys\u001b[38;5;241m.\u001b[39mmodules[module], name)\n",
      "File \u001b[1;32m~\\AppData\\Local\\Programs\\Python\\Python39\\lib\\pickle.py:331\u001b[0m, in \u001b[0;36m_getattribute\u001b[1;34m(obj, name)\u001b[0m\n\u001b[0;32m    329\u001b[0m         obj \u001b[38;5;241m=\u001b[39m \u001b[38;5;28mgetattr\u001b[39m(obj, subpath)\n\u001b[0;32m    330\u001b[0m     \u001b[38;5;28;01mexcept\u001b[39;00m \u001b[38;5;167;01mAttributeError\u001b[39;00m:\n\u001b[1;32m--> 331\u001b[0m         \u001b[38;5;28;01mraise\u001b[39;00m \u001b[38;5;167;01mAttributeError\u001b[39;00m(\u001b[38;5;124m\"\u001b[39m\u001b[38;5;124mCan\u001b[39m\u001b[38;5;124m'\u001b[39m\u001b[38;5;124mt get attribute \u001b[39m\u001b[38;5;132;01m{!r}\u001b[39;00m\u001b[38;5;124m on \u001b[39m\u001b[38;5;132;01m{!r}\u001b[39;00m\u001b[38;5;124m\"\u001b[39m\n\u001b[0;32m    332\u001b[0m                              \u001b[38;5;241m.\u001b[39mformat(name, obj)) \u001b[38;5;28;01mfrom\u001b[39;00m \u001b[38;5;28;01mNone\u001b[39;00m\n\u001b[0;32m    333\u001b[0m \u001b[38;5;28;01mreturn\u001b[39;00m obj, parent\n",
      "\u001b[1;31mAttributeError\u001b[0m: Can't get attribute 'ColumnsGuard' on <module '__main__'>"
     ]
    }
   ],
   "source": [
    "import joblib\n",
    "\n",
    "trained_model = joblib.load(\"../results/HuberRegressor.pkl\")"
   ]
  },
  {
   "cell_type": "code",
   "execution_count": null,
   "id": "5e15b411",
   "metadata": {},
   "outputs": [],
   "source": [
    "import os\n",
    "import sys\n",
    "\n",
    "import numpy as np\n",
    "import pandas as pd\n",
    "import matplotlib.pyplot as plt\n",
    "import joblib\n",
    "\n",
    "sys.path.append(\"..\")\n",
    "\n",
    "from src.sanity import *"
   ]
  },
  {
   "cell_type": "code",
   "execution_count": null,
   "id": "d4bf1c53",
   "metadata": {},
   "outputs": [],
   "source": [
    "np.random.seed(80)\n",
    "plt.style.use(\"seaborn-v0_8-darkgrid\")\n",
    "plt.rc(\n",
    "    \"axes\",\n",
    "    labelweight=\"bold\",\n",
    "    labelsize=\"large\",\n",
    "    titleweight=\"bold\",\n",
    "    titlesize=14,\n",
    "    titlepad=10,\n",
    ")\n",
    "\n",
    "%config InlineBackend.figure_format = 'retina'"
   ]
  },
  {
   "cell_type": "code",
   "execution_count": null,
   "id": "c37ff8ce",
   "metadata": {},
   "outputs": [],
   "source": [
    "from src.load_datasets import load_traffic_data\n",
    "\n",
    "\n",
    "dataframe = (\n",
    "    load_traffic_data()\n",
    "    .pipe(\n",
    "        select_column,\n",
    "        cols=[\n",
    "            \"date_time\",\n",
    "            \"temp\",\n",
    "            \"rain_1h\",\n",
    "            \"snow_1h\",\n",
    "            \"clouds_all\",\n",
    "            \"traffic_volume\",\n",
    "        ],\n",
    "    )\n",
    "    .pipe(format_datetime, col=\"date_time\")\n",
    "    .pipe(set_index, col=\"date_time\")\n",
    "    .pipe(resample_data, freq=\"H\")\n",
    "    .pipe(interpolate_column)\n",
    ")\n",
    "\n",
    "print(f\"dataframe shape {dataframe.shape}\")\n",
    "\n",
    "dataframe.head()"
   ]
  },
  {
   "cell_type": "markdown",
   "id": "bd48f25c",
   "metadata": {},
   "source": [
    "### test_train_split"
   ]
  },
  {
   "cell_type": "code",
   "execution_count": null,
   "id": "47c52286",
   "metadata": {},
   "outputs": [],
   "source": [
    "from sktime.utils.plotting import plot_series\n",
    "from sktime.forecasting.model_selection import temporal_train_test_split\n",
    "\n",
    "TEST_SIZE = 15\n",
    "TARGET_COl = \"traffic_volume\"\n",
    "\n",
    "train_xy, test_xy = temporal_train_test_split(dataframe, test_size=2 * TEST_SIZE)\n",
    "\n",
    "print(f\"train_xy and test_xy size: {train_xy.shape}, {test_xy.shape}\", end=\"\\n\\n\")\n",
    "\n",
    "y_train = train_xy[TARGET_COl].copy(deep=True)\n",
    "x_train = train_xy.drop(columns=[TARGET_COl]).copy(deep=True)\n",
    "\n",
    "y_test = test_xy[TARGET_COl].copy(deep=True)\n",
    "x_test = test_xy.drop(columns=[TARGET_COl]).copy(deep=True)\n",
    "\n",
    "print(f\"y_train and x_train size {y_train.shape}, {x_train.shape}\")\n",
    "print(\n",
    "    f\"y_test  and x_test  size {y_test.shape},  {x_test.shape}\",\n",
    "    end=\"\\n\\n\",\n",
    ")\n",
    "\n",
    "plot_series(y_train.tail(62), y_test, labels=[\"Train\", \"Test\"])"
   ]
  },
  {
   "cell_type": "code",
   "execution_count": null,
   "id": "91cc83f1",
   "metadata": {},
   "outputs": [],
   "source": [
    "import joblib\n",
    "\n",
    "trained_model = joblib.load(\"../results/HuberRegressor.pkl\")"
   ]
  },
  {
   "cell_type": "code",
   "execution_count": null,
   "id": "d6f253b3",
   "metadata": {},
   "outputs": [],
   "source": [
    "import joblib\n",
    "\n",
    "trained_model = joblib.load(\"../results/HuberRegressor.pkl\")\n",
    "\n",
    "\n",
    "model_n_features_in = trained_model.get_fitted_params()[\n",
    "    \"forecaster__reducer__estimator__n_features_in\"\n",
    "]\n",
    "model_fname_in = trained_model.get_fitted_params()[\n",
    "    \"forecaster__reducer__estimator__feature_names_in\"\n",
    "]\n",
    "model_coeff = trained_model.get_fitted_params()[\"forecaster__reducer__estimator__coef\"]\n",
    "model_intercept = trained_model.get_fitted_params()[\n",
    "    \"forecaster__reducer__estimator__intercept\"\n",
    "]\n",
    "\n",
    "print(f\"model_n_features_in {model_n_features_in}\", end=\"\\n\\n\")\n",
    "print(f\"model_fname_in {model_fname_in}\", end=\"\\n\\n\")\n",
    "print(f\"model_coeff {model_coeff}\", end=\"\\n\\n\")\n",
    "print(f\"model_intercept {model_intercept}\", end=\"\\n\\n\")"
   ]
  },
  {
   "cell_type": "code",
   "execution_count": null,
   "id": "5883390e",
   "metadata": {},
   "outputs": [],
   "source": [
    "print(x_test.columns)"
   ]
  },
  {
   "cell_type": "markdown",
   "id": "0f7914bf",
   "metadata": {},
   "source": [
    "### Forecasting"
   ]
  },
  {
   "cell_type": "code",
   "execution_count": null,
   "id": "faec9be2",
   "metadata": {},
   "outputs": [],
   "source": [
    "fh = np.arange(1, TEST_SIZE + 1)\n",
    "\n",
    "y_fcasted = trained_model.predict(fh, X=x_test)\n",
    "\n",
    "plot_series(y_train.tail(12), y_test, y_fcasted, labels=[\"Train\", \"Test\", \"fcasted\"])"
   ]
  },
  {
   "cell_type": "code",
   "execution_count": null,
   "id": "af440b5f",
   "metadata": {},
   "outputs": [],
   "source": [
    "y_fcasted"
   ]
  },
  {
   "cell_type": "code",
   "execution_count": null,
   "id": "71bdfe34",
   "metadata": {},
   "outputs": [],
   "source": [
    "print(trained_model.cutoff)"
   ]
  },
  {
   "cell_type": "code",
   "execution_count": null,
   "id": "20d1f6d0",
   "metadata": {},
   "outputs": [],
   "source": [
    "print(test_xy.shape)\n",
    "test_xy.head()"
   ]
  },
  {
   "cell_type": "code",
   "execution_count": null,
   "id": "c0596d8b",
   "metadata": {},
   "outputs": [],
   "source": [
    "test_xy_new = test_xy.head(TEST_SIZE)\n",
    "test_xy_future = test_xy.tail(TEST_SIZE)\n",
    "print(test_xy_new.shape, test_xy_future.shape)"
   ]
  },
  {
   "cell_type": "code",
   "execution_count": null,
   "id": "56d82ccf",
   "metadata": {},
   "outputs": [],
   "source": [
    "test_xy_new.tail()"
   ]
  },
  {
   "cell_type": "code",
   "execution_count": null,
   "id": "4e145bf0",
   "metadata": {},
   "outputs": [],
   "source": [
    "test_xy_future.head()"
   ]
  },
  {
   "cell_type": "code",
   "execution_count": null,
   "id": "a0f118cb",
   "metadata": {},
   "outputs": [],
   "source": [
    "y_new = test_xy_new.pop(TARGET_COl)\n",
    "test_xy_new.head()"
   ]
  },
  {
   "cell_type": "code",
   "execution_count": null,
   "id": "068813bf",
   "metadata": {},
   "outputs": [],
   "source": [
    "y_new.head()"
   ]
  },
  {
   "cell_type": "code",
   "execution_count": null,
   "id": "a0a5e156",
   "metadata": {},
   "outputs": [],
   "source": [
    "# trained_model.update(y_new,X=test_xy_new,update_params=False)\n",
    "\n",
    "y_new_fcasted = trained_model.update_predict(\n",
    "    y_new, X=test_xy_new, update_params=False, reset_forecaster=False\n",
    ")"
   ]
  },
  {
   "cell_type": "code",
   "execution_count": null,
   "id": "58e86836",
   "metadata": {},
   "outputs": [],
   "source": [
    "print(trained_model.cutoff)"
   ]
  },
  {
   "cell_type": "code",
   "execution_count": null,
   "id": "0292a01e",
   "metadata": {},
   "outputs": [],
   "source": [
    "y_future = test_xy_future.pop(TARGET_COl)\n",
    "fh = np.arange(1, TEST_SIZE + 1)\n",
    "\n",
    "y_future_fcated = trained_model.predict(fh, X=test_xy_future)"
   ]
  },
  {
   "cell_type": "code",
   "execution_count": null,
   "id": "0083b43b",
   "metadata": {},
   "outputs": [],
   "source": [
    "plot_series(\n",
    "    y_new,\n",
    "    y_new_fcasted,\n",
    "    y_future,\n",
    "    y_future_fcated,\n",
    "    labels=[\"y_new\", \"y_new_fcasted\", \"y_future\", \"y_future_fcated\"],\n",
    ")"
   ]
  },
  {
   "cell_type": "markdown",
   "id": "f3a3679b",
   "metadata": {},
   "source": [
    "### No Input Graurd in Fitted Model "
   ]
  },
  {
   "cell_type": "code",
   "execution_count": null,
   "id": "58dc7ec0",
   "metadata": {},
   "outputs": [],
   "source": [
    "x_modified = x_test[[\"press\", \"wnd_spd\", \"snow\", \"rain\", \"dewp\", \"temp\"]]\n",
    "x_modified.head()"
   ]
  },
  {
   "cell_type": "code",
   "execution_count": null,
   "id": "64088264",
   "metadata": {},
   "outputs": [],
   "source": [
    "fh = np.arange(1, TEST_SIZE + 1)\n",
    "\n",
    "y_fcasted = trained_model.predict(fh, X=x_modified)\n",
    "\n",
    "plot_series(y_train.tail(12), y_test, y_fcasted, labels=[\"Train\", \"Test\", \"fcasted\"])"
   ]
  },
  {
   "cell_type": "code",
   "execution_count": null,
   "id": "49e6c183",
   "metadata": {},
   "outputs": [],
   "source": []
  }
 ],
 "metadata": {
  "kernelspec": {
   "display_name": "Python 3 (ipykernel)",
   "language": "python",
   "name": "python3"
  },
  "language_info": {
   "codemirror_mode": {
    "name": "ipython",
    "version": 3
   },
   "file_extension": ".py",
   "mimetype": "text/x-python",
   "name": "python",
   "nbconvert_exporter": "python",
   "pygments_lexer": "ipython3",
   "version": "3.9.7"
  }
 },
 "nbformat": 4,
 "nbformat_minor": 5
}
